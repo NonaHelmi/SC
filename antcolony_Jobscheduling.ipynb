{
  "nbformat": 4,
  "nbformat_minor": 0,
  "metadata": {
    "colab": {
      "provenance": [],
      "authorship_tag": "ABX9TyM/BhW4R/Rdfj79PEQhTFQC",
      "include_colab_link": true
    },
    "kernelspec": {
      "name": "python3",
      "display_name": "Python 3"
    },
    "language_info": {
      "name": "python"
    }
  },
  "cells": [
    {
      "cell_type": "markdown",
      "metadata": {
        "id": "view-in-github",
        "colab_type": "text"
      },
      "source": [
        "<a href=\"https://colab.research.google.com/github/NonaHelmi/SC/blob/main/antcolony_Jobscheduling.ipynb\" target=\"_parent\"><img src=\"https://colab.research.google.com/assets/colab-badge.svg\" alt=\"Open In Colab\"/></a>"
      ]
    },
    {
      "cell_type": "code",
      "source": [
        "import numpy as np\n",
        "\n",
        "def initialize_pheromone(num_jobs):\n",
        "    return np.ones(num_jobs)\n",
        "\n",
        "def ant_colony_job_scheduling(jobs_times, num_ants=10, num_iterations=100, alpha=1, beta=2):\n",
        "    num_jobs = len(jobs_times)\n",
        "    pheromone = initialize_pheromone(num_jobs)\n",
        "\n",
        "    best_schedule = None\n",
        "    best_time = float('inf')\n",
        "\n",
        "    for iteration in range(num_iterations):\n",
        "        all_schedules = []\n",
        "        all_times = []\n",
        "\n",
        "        for ant in range(num_ants):\n",
        "            schedule = []\n",
        "            available_jobs = list(range(num_jobs))\n",
        "\n",
        "            while available_jobs:\n",
        "                probabilities = []\n",
        "                for job in available_jobs:\n",
        "                    prob = (pheromone[job] ** alpha) * (1 / jobs_times[job] ** beta)\n",
        "                    probabilities.append(prob)\n",
        "\n",
        "                probabilities = probabilities / np.sum(probabilities)  # Normalize\n",
        "                selected_job = np.random.choice(available_jobs, p=probabilities)\n",
        "                schedule.append(selected_job)\n",
        "                available_jobs.remove(selected_job)\n",
        "\n",
        "            total_time = sum(jobs_times[job] for job in schedule)\n",
        "            all_schedules.append(schedule)\n",
        "            all_times.append(total_time)\n",
        "\n",
        "            # Update pheromone levels based on makespan or total time\n",
        "            for job in schedule:\n",
        "                pheromone[job] += 1 / total_time\n",
        "\n",
        "        # Evaporation of pheromone\n",
        "        pheromone *= 0.95\n",
        "\n",
        "        # Update best schedule found\n",
        "        min_time_idx = np.argmin(all_times)\n",
        "        if all_times[min_time_idx] < best_time:\n",
        "            best_time = all_times[min_time_idx]\n",
        "            best_schedule = all_schedules[min_time_idx]\n",
        "\n",
        "    return best_schedule, best_time\n",
        "\n",
        "# Example usage for Job Scheduling\n",
        "jobs_times = [2, 4, 6, 8]  # Duration of each job\n",
        "best_schedule, best_time = ant_colony_job_scheduling(jobs_times)\n",
        "print(\"Best schedule:\", best_schedule)\n",
        "print(\"Best total time:\", best_time)"
      ],
      "metadata": {
        "colab": {
          "base_uri": "https://localhost:8080/"
        },
        "id": "HULzj2dhAaVe",
        "outputId": "c5d90c23-8a29-43cc-ce13-51ee2bc940c9"
      },
      "execution_count": 28,
      "outputs": [
        {
          "output_type": "stream",
          "name": "stdout",
          "text": [
            "Best schedule: [0, 1, 2, 3]\n",
            "Best total time: 20\n"
          ]
        }
      ]
    }
  ]
}