{
  "nbformat": 4,
  "nbformat_minor": 0,
  "metadata": {
    "colab": {
      "provenance": [],
      "authorship_tag": "ABX9TyPjdBQl3qf2a0KCBU2E4c/r",
      "include_colab_link": true
    },
    "kernelspec": {
      "name": "python3",
      "display_name": "Python 3"
    },
    "language_info": {
      "name": "python"
    }
  },
  "cells": [
    {
      "cell_type": "markdown",
      "metadata": {
        "id": "view-in-github",
        "colab_type": "text"
      },
      "source": [
        "<a href=\"https://colab.research.google.com/github/NonaHelmi/SC/blob/main/antcolony_JobScheduling1.ipynb\" target=\"_parent\"><img src=\"https://colab.research.google.com/assets/colab-badge.svg\" alt=\"Open In Colab\"/></a>"
      ]
    },
    {
      "cell_type": "code",
      "source": [
        "import numpy as np\n",
        "\n",
        "def initialize_pheromone(num_jobs, num_machines):\n",
        "    return np.ones((num_jobs, num_machines))  # Initial pheromone levels for each machine and job\n",
        "\n",
        "def calculate_completion_time(schedule, jobs_times):\n",
        "    # Calculate the total time for each machine based on the jobs assigned\n",
        "    machine_times = []\n",
        "    for machine_jobs in schedule:\n",
        "        total_time = sum(jobs_times[job] for job in machine_jobs)\n",
        "        machine_times.append(total_time)\n",
        "    return max(machine_times)  # Total time is the max time among machines\n",
        "\n",
        "def ant_colony_job_scheduling(jobs_times, num_machines, num_ants=10, num_iterations=100, alpha=1, beta=2):\n",
        "    num_jobs = len(jobs_times)\n",
        "    pheromone = initialize_pheromone(num_jobs, num_machines)\n",
        "\n",
        "    best_schedule = None\n",
        "    best_time = float('inf')\n",
        "\n",
        "    for iteration in range(num_iterations):\n",
        "        all_schedules = []\n",
        "        all_times = []\n",
        "\n",
        "        for ant in range(num_ants):\n",
        "            schedule = [[] for _ in range(num_machines)]  # Create a schedule for each machine\n",
        "            available_jobs = list(range(num_jobs))\n",
        "\n",
        "            while available_jobs:\n",
        "                probabilities = []\n",
        "                for job in available_jobs:\n",
        "                    # Compute the probability for each machine for the current job\n",
        "                    prob = []\n",
        "                    for machine in range(num_machines):\n",
        "                        pheromone_value = pheromone[job, machine]\n",
        "                        time_for_job = jobs_times[job]  # Time duration for the job\n",
        "                        heuristic_value = 1 / (time_for_job ** beta)  # Inverse of job time\n",
        "                        prob.append((pheromone_value ** alpha) * (heuristic_value))\n",
        "\n",
        "                    prob_sum = sum(prob)\n",
        "                    if prob_sum > 0:\n",
        "                        normalized_prob = [p / prob_sum for p in prob]\n",
        "                    else:\n",
        "                        normalized_prob = [1 / num_machines] * num_machines  # Uniform probability if all pheromones are zero\n",
        "\n",
        "                    probabilities.append(normalized_prob)\n",
        "\n",
        "                # Select a job and a machine based on the probabilities\n",
        "                selected_job = np.random.choice(available_jobs)\n",
        "                selected_machine = np.random.choice(range(num_machines), p=probabilities[len(available_jobs) - 1])\n",
        "\n",
        "                # Assign the selected job to the selected machine\n",
        "                schedule[selected_machine].append(selected_job)\n",
        "                available_jobs.remove(selected_job)\n",
        "\n",
        "            total_time = calculate_completion_time(schedule, jobs_times)\n",
        "            all_schedules.append(schedule)\n",
        "            all_times.append(total_time)\n",
        "\n",
        "            # Update pheromone levels based on total time\n",
        "            for machine in range(num_machines):\n",
        "                for job in schedule[machine]:\n",
        "                    pheromone[job, machine] += 1 / total_time  # Increase pheromone based on quality of solution\n",
        "\n",
        "        # Evaporation of pheromone\n",
        "        pheromone *= 0.95\n",
        "\n",
        "        # Update best schedule found\n",
        "        min_time_idx = np.argmin(all_times)\n",
        "        if all_times[min_time_idx] < best_time:\n",
        "            best_time = all_times[min_time_idx]\n",
        "            best_schedule = all_schedules[min_time_idx]\n",
        "\n",
        "    return best_schedule, best_time\n",
        "\n",
        "# Example usage for Job Scheduling with multiple machines\n",
        "jobs_times = [2, 4, 6, 8]  # Duration of each job\n",
        "num_machines = 3  # Number of machines\n",
        "best_schedule, best_time = ant_colony_job_scheduling(jobs_times, num_machines)\n",
        "print(\"Best schedule:\", best_schedule)\n",
        "print(\"Best total time:\", best_time)"
      ],
      "metadata": {
        "colab": {
          "base_uri": "https://localhost:8080/"
        },
        "id": "7iOYDF0vDVaE",
        "outputId": "be120bba-836b-44b1-8606-b5a6daf61ce0"
      },
      "execution_count": 29,
      "outputs": [
        {
          "output_type": "stream",
          "name": "stdout",
          "text": [
            "Best schedule: [[3], [1, 0], [2]]\n",
            "Best total time: 8\n"
          ]
        }
      ]
    }
  ]
}