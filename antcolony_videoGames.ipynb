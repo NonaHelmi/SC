{
  "nbformat": 4,
  "nbformat_minor": 0,
  "metadata": {
    "colab": {
      "provenance": [],
      "authorship_tag": "ABX9TyM+rw+a6n4WWeNpnWtGjQeC",
      "include_colab_link": true
    },
    "kernelspec": {
      "name": "python3",
      "display_name": "Python 3"
    },
    "language_info": {
      "name": "python"
    }
  },
  "cells": [
    {
      "cell_type": "markdown",
      "metadata": {
        "id": "view-in-github",
        "colab_type": "text"
      },
      "source": [
        "<a href=\"https://colab.research.google.com/github/NonaHelmi/SC/blob/main/antcolony_videoGames.ipynb\" target=\"_parent\"><img src=\"https://colab.research.google.com/assets/colab-badge.svg\" alt=\"Open In Colab\"/></a>"
      ]
    },
    {
      "cell_type": "code",
      "source": [
        "\n",
        "import numpy as np\n",
        "\n",
        "def initialize_pheromone(grid):\n",
        "    return np.ones(grid.shape)  # Initial pheromone levels\n",
        "\n",
        "def get_valid_neighbors(pos, grid):\n",
        "    neighbors = []\n",
        "    for dx, dy in [(-1, 0), (1, 0), (0, -1), (0, 1)]:  # Up, Down, Left, Right\n",
        "        new_pos = (pos[0] + dx, pos[1] + dy)\n",
        "        if (0 <= new_pos[0] < grid.shape[0] and\n",
        "            0 <= new_pos[1] < grid.shape[1] and\n",
        "            grid[new_pos] == 0):  # Check if the cell is walkable\n",
        "            neighbors.append(new_pos)\n",
        "    return neighbors\n",
        "\n",
        "def aco_pathfinding(start, goal, grid, num_ants=10, num_iterations=100, alpha=1, beta=2):\n",
        "    pheromone = initialize_pheromone(grid)\n",
        "    best_path = None\n",
        "    best_length = float('inf')\n",
        "\n",
        "    for iteration in range(num_iterations):\n",
        "        paths = []\n",
        "        lengths = []\n",
        "\n",
        "        for ant in range(num_ants):\n",
        "            current_pos = start\n",
        "            path = [current_pos]\n",
        "\n",
        "            while current_pos != goal:\n",
        "                valid_neighbors = get_valid_neighbors(current_pos, grid)\n",
        "                if not valid_neighbors:\n",
        "                    break  # No path found\n",
        "\n",
        "                # Calculate probabilities for valid neighbors\n",
        "                probabilities = []\n",
        "                for neighbor in valid_neighbors:\n",
        "                    pheromone_value = pheromone[neighbor]\n",
        "                    distance = np.linalg.norm(np.array(neighbor) - np.array(goal))\n",
        "                    heuristic_value = 1 / (distance + 1e-10)  # Avoid division by zero\n",
        "                    probabilities.append((pheromone_value ** alpha) * (heuristic_value ** beta))\n",
        "\n",
        "                probabilities = probabilities / np.sum(probabilities)  # Normalize\n",
        "\n",
        "                next_pos = np.random.choice(range(len(valid_neighbors)), p=probabilities)\n",
        "                current_pos = valid_neighbors[next_pos]\n",
        "                path.append(current_pos)\n",
        "\n",
        "            path_length = len(path)  # Path length is simply the number of steps taken\n",
        "            paths.append(path)\n",
        "            lengths.append(path_length)\n",
        "\n",
        "            # Update pheromone levels based on path length\n",
        "            for pos in path:\n",
        "                pheromone[pos] += 1 / path_length\n",
        "\n",
        "        # Evaporation of pheromone\n",
        "        pheromone *= 0.95\n",
        "\n",
        "        # Update best path found\n",
        "        min_length_idx = np.argmin(lengths)\n",
        "        if lengths[min_length_idx] < best_length:\n",
        "            best_length = lengths[min_length_idx]\n",
        "            best_path = paths[min_length_idx]\n",
        "\n",
        "    return best_path, best_length\n",
        "\n",
        "# Example usage for Pathfinding\n",
        "grid = np.array([[0, 0, 0, 0, 0],\n",
        "                 [0, 1, 1, 1, 0],\n",
        "                 [0, 0, 0, 1, 0],\n",
        "                 [0, 1, 0, 0, 0],\n",
        "                 [0, 0, 0, 1, 0]])\n",
        "\n",
        "start = (0, 0)\n",
        "goal = (4, 4)\n",
        "best_path, best_length = aco_pathfinding(start, goal, grid)\n",
        "print(\"Best path:\", best_path)\n",
        "print(\"Best path length:\", best_length)"
      ],
      "metadata": {
        "colab": {
          "base_uri": "https://localhost:8080/"
        },
        "id": "zLcET6eY_TOj",
        "outputId": "55eee957-fa19-4c74-bb21-307ede57316e"
      },
      "execution_count": 27,
      "outputs": [
        {
          "output_type": "stream",
          "name": "stdout",
          "text": [
            "Best path: [(0, 0), (0, 1), (0, 2), (0, 3), (0, 4), (1, 4), (2, 4), (3, 4), (4, 4)]\n",
            "Best path length: 9\n"
          ]
        }
      ]
    }
  ]
}