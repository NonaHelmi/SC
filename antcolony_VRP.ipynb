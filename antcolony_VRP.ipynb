{
  "nbformat": 4,
  "nbformat_minor": 0,
  "metadata": {
    "colab": {
      "provenance": [],
      "authorship_tag": "ABX9TyMGN9oUoVme/uBkgHK9ODcL",
      "include_colab_link": true
    },
    "kernelspec": {
      "name": "python3",
      "display_name": "Python 3"
    },
    "language_info": {
      "name": "python"
    }
  },
  "cells": [
    {
      "cell_type": "markdown",
      "metadata": {
        "id": "view-in-github",
        "colab_type": "text"
      },
      "source": [
        "<a href=\"https://colab.research.google.com/github/NonaHelmi/SC/blob/main/antcolony_VRP.ipynb\" target=\"_parent\"><img src=\"https://colab.research.google.com/assets/colab-badge.svg\" alt=\"Open In Colab\"/></a>"
      ]
    },
    {
      "cell_type": "code",
      "source": [
        "import numpy as np\n",
        "\n",
        "class Ant:\n",
        "    def __init__(self, num_nodes):\n",
        "        self.num_nodes = num_nodes\n",
        "        self.route = []\n",
        "        self.distance = 0\n",
        "\n",
        "    def visit_city(self, city):\n",
        "        if city not in self.route:\n",
        "            self.route.append(city)\n",
        "\n",
        "    def calculate_distance(self, distance_matrix):\n",
        "        self.distance = 0\n",
        "        for i in range(len(self.route) - 1):\n",
        "            self.distance += distance_matrix[self.route[i]][self.route[i + 1]]\n",
        "        self.distance += distance_matrix[self.route[-1]][self.route[0]]  # return to start\n",
        "\n",
        "def aco_vrp(distance_matrix, num_vehicles, num_iterations):\n",
        "    num_nodes = distance_matrix.shape[0]\n",
        "    pheromone = np.ones((num_nodes, num_nodes)) / num_nodes\n",
        "    best_route = None\n",
        "    best_distance = float('inf')\n",
        "\n",
        "    for _ in range(num_iterations):\n",
        "        ants = [Ant(num_nodes) for _ in range(num_vehicles)]\n",
        "        for ant in ants:\n",
        "            start_city = np.random.randint(num_nodes)\n",
        "            ant.visit_city(start_city)\n",
        "            while len(ant.route) < num_nodes:\n",
        "                next_city = np.random.choice(num_nodes, p=pheromone[start_city] / pheromone[start_city].sum())\n",
        "                ant.visit_city(next_city)\n",
        "                start_city = next_city\n",
        "            ant.calculate_distance(distance_matrix)\n",
        "            if ant.distance < best_distance:\n",
        "                best_distance = ant.distance\n",
        "                best_route = ant.route\n",
        "\n",
        "        pheromone *= 0.95  # evaporation\n",
        "        for ant in ants:\n",
        "            for i in range(len(ant.route) - 1):\n",
        "                pheromone[ant.route[i]][ant.route[i + 1]] += 1.0 / ant.distance\n",
        "\n",
        "    return best_route, best_distance\n",
        "\n",
        "# Example usage\n",
        "distance_matrix = np.array([[0, 2, 9, 10],\n",
        "                            [1, 0, 6, 4],\n",
        "                            [15, 7, 0, 8],\n",
        "                            [6, 3, 12, 0]])\n",
        "num_vehicles = 2\n",
        "num_iterations = 100\n",
        "best_route, best_distance = aco_vrp(distance_matrix, num_vehicles, num_iterations)\n",
        "print(\"Best route:\", best_route)\n",
        "print(\"Best distance:\", best_distance)"
      ],
      "metadata": {
        "colab": {
          "base_uri": "https://localhost:8080/"
        },
        "id": "gzCKRuua3cBr",
        "outputId": "57864fdd-4dbd-4ed1-a2ec-12408f9be95a"
      },
      "execution_count": 19,
      "outputs": [
        {
          "output_type": "stream",
          "name": "stdout",
          "text": [
            "Best route: [1, 0, 2, 3]\n",
            "Best distance: 21\n"
          ]
        }
      ]
    }
  ]
}